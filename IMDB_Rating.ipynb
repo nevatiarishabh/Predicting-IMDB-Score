{
 "cells": [
  {
   "cell_type": "code",
   "execution_count": 36,
   "metadata": {},
   "outputs": [],
   "source": [
    "import pandas as pd\n",
    "import numpy as np\n",
    "import seaborn as sns\n",
    "import matplotlib.pyplot as plt"
   ]
  },
  {
   "cell_type": "code",
   "execution_count": 37,
   "metadata": {},
   "outputs": [
    {
     "data": {
      "text/html": [
       "<div>\n",
       "<style scoped>\n",
       "    .dataframe tbody tr th:only-of-type {\n",
       "        vertical-align: middle;\n",
       "    }\n",
       "\n",
       "    .dataframe tbody tr th {\n",
       "        vertical-align: top;\n",
       "    }\n",
       "\n",
       "    .dataframe thead th {\n",
       "        text-align: right;\n",
       "    }\n",
       "</style>\n",
       "<table border=\"1\" class=\"dataframe\">\n",
       "  <thead>\n",
       "    <tr style=\"text-align: right;\">\n",
       "      <th></th>\n",
       "      <th>color</th>\n",
       "      <th>director_name</th>\n",
       "      <th>num_critic_for_reviews</th>\n",
       "      <th>duration</th>\n",
       "      <th>director_facebook_likes</th>\n",
       "      <th>actor_3_facebook_likes</th>\n",
       "      <th>actor_2_name</th>\n",
       "      <th>actor_1_facebook_likes</th>\n",
       "      <th>gross</th>\n",
       "      <th>genres</th>\n",
       "      <th>...</th>\n",
       "      <th>num_user_for_reviews</th>\n",
       "      <th>language</th>\n",
       "      <th>country</th>\n",
       "      <th>content_rating</th>\n",
       "      <th>budget</th>\n",
       "      <th>title_year</th>\n",
       "      <th>actor_2_facebook_likes</th>\n",
       "      <th>imdb_score</th>\n",
       "      <th>aspect_ratio</th>\n",
       "      <th>movie_facebook_likes</th>\n",
       "    </tr>\n",
       "  </thead>\n",
       "  <tbody>\n",
       "    <tr>\n",
       "      <th>0</th>\n",
       "      <td>Color</td>\n",
       "      <td>James Cameron</td>\n",
       "      <td>723.0</td>\n",
       "      <td>178.0</td>\n",
       "      <td>0.0</td>\n",
       "      <td>855.0</td>\n",
       "      <td>Joel David Moore</td>\n",
       "      <td>1000.0</td>\n",
       "      <td>760505847.0</td>\n",
       "      <td>Action|Adventure|Fantasy|Sci-Fi</td>\n",
       "      <td>...</td>\n",
       "      <td>3054.0</td>\n",
       "      <td>English</td>\n",
       "      <td>USA</td>\n",
       "      <td>PG-13</td>\n",
       "      <td>237000000.0</td>\n",
       "      <td>2009.0</td>\n",
       "      <td>936.0</td>\n",
       "      <td>7.9</td>\n",
       "      <td>1.78</td>\n",
       "      <td>33000</td>\n",
       "    </tr>\n",
       "    <tr>\n",
       "      <th>1</th>\n",
       "      <td>Color</td>\n",
       "      <td>Gore Verbinski</td>\n",
       "      <td>302.0</td>\n",
       "      <td>169.0</td>\n",
       "      <td>563.0</td>\n",
       "      <td>1000.0</td>\n",
       "      <td>Orlando Bloom</td>\n",
       "      <td>40000.0</td>\n",
       "      <td>309404152.0</td>\n",
       "      <td>Action|Adventure|Fantasy</td>\n",
       "      <td>...</td>\n",
       "      <td>1238.0</td>\n",
       "      <td>English</td>\n",
       "      <td>USA</td>\n",
       "      <td>PG-13</td>\n",
       "      <td>300000000.0</td>\n",
       "      <td>2007.0</td>\n",
       "      <td>5000.0</td>\n",
       "      <td>7.1</td>\n",
       "      <td>2.35</td>\n",
       "      <td>0</td>\n",
       "    </tr>\n",
       "    <tr>\n",
       "      <th>2</th>\n",
       "      <td>Color</td>\n",
       "      <td>Sam Mendes</td>\n",
       "      <td>602.0</td>\n",
       "      <td>148.0</td>\n",
       "      <td>0.0</td>\n",
       "      <td>161.0</td>\n",
       "      <td>Rory Kinnear</td>\n",
       "      <td>11000.0</td>\n",
       "      <td>200074175.0</td>\n",
       "      <td>Action|Adventure|Thriller</td>\n",
       "      <td>...</td>\n",
       "      <td>994.0</td>\n",
       "      <td>English</td>\n",
       "      <td>UK</td>\n",
       "      <td>PG-13</td>\n",
       "      <td>245000000.0</td>\n",
       "      <td>2015.0</td>\n",
       "      <td>393.0</td>\n",
       "      <td>6.8</td>\n",
       "      <td>2.35</td>\n",
       "      <td>85000</td>\n",
       "    </tr>\n",
       "    <tr>\n",
       "      <th>3</th>\n",
       "      <td>Color</td>\n",
       "      <td>Christopher Nolan</td>\n",
       "      <td>813.0</td>\n",
       "      <td>164.0</td>\n",
       "      <td>22000.0</td>\n",
       "      <td>23000.0</td>\n",
       "      <td>Christian Bale</td>\n",
       "      <td>27000.0</td>\n",
       "      <td>448130642.0</td>\n",
       "      <td>Action|Thriller</td>\n",
       "      <td>...</td>\n",
       "      <td>2701.0</td>\n",
       "      <td>English</td>\n",
       "      <td>USA</td>\n",
       "      <td>PG-13</td>\n",
       "      <td>250000000.0</td>\n",
       "      <td>2012.0</td>\n",
       "      <td>23000.0</td>\n",
       "      <td>8.5</td>\n",
       "      <td>2.35</td>\n",
       "      <td>164000</td>\n",
       "    </tr>\n",
       "    <tr>\n",
       "      <th>4</th>\n",
       "      <td>NaN</td>\n",
       "      <td>Doug Walker</td>\n",
       "      <td>NaN</td>\n",
       "      <td>NaN</td>\n",
       "      <td>131.0</td>\n",
       "      <td>NaN</td>\n",
       "      <td>Rob Walker</td>\n",
       "      <td>131.0</td>\n",
       "      <td>NaN</td>\n",
       "      <td>Documentary</td>\n",
       "      <td>...</td>\n",
       "      <td>NaN</td>\n",
       "      <td>NaN</td>\n",
       "      <td>NaN</td>\n",
       "      <td>NaN</td>\n",
       "      <td>NaN</td>\n",
       "      <td>NaN</td>\n",
       "      <td>12.0</td>\n",
       "      <td>7.1</td>\n",
       "      <td>NaN</td>\n",
       "      <td>0</td>\n",
       "    </tr>\n",
       "  </tbody>\n",
       "</table>\n",
       "<p>5 rows × 28 columns</p>\n",
       "</div>"
      ],
      "text/plain": [
       "   color      director_name  num_critic_for_reviews  duration  \\\n",
       "0  Color      James Cameron                   723.0     178.0   \n",
       "1  Color     Gore Verbinski                   302.0     169.0   \n",
       "2  Color         Sam Mendes                   602.0     148.0   \n",
       "3  Color  Christopher Nolan                   813.0     164.0   \n",
       "4    NaN        Doug Walker                     NaN       NaN   \n",
       "\n",
       "   director_facebook_likes  actor_3_facebook_likes      actor_2_name  \\\n",
       "0                      0.0                   855.0  Joel David Moore   \n",
       "1                    563.0                  1000.0     Orlando Bloom   \n",
       "2                      0.0                   161.0      Rory Kinnear   \n",
       "3                  22000.0                 23000.0    Christian Bale   \n",
       "4                    131.0                     NaN        Rob Walker   \n",
       "\n",
       "   actor_1_facebook_likes        gross                           genres  ...  \\\n",
       "0                  1000.0  760505847.0  Action|Adventure|Fantasy|Sci-Fi  ...   \n",
       "1                 40000.0  309404152.0         Action|Adventure|Fantasy  ...   \n",
       "2                 11000.0  200074175.0        Action|Adventure|Thriller  ...   \n",
       "3                 27000.0  448130642.0                  Action|Thriller  ...   \n",
       "4                   131.0          NaN                      Documentary  ...   \n",
       "\n",
       "  num_user_for_reviews language  country  content_rating       budget  \\\n",
       "0               3054.0  English      USA           PG-13  237000000.0   \n",
       "1               1238.0  English      USA           PG-13  300000000.0   \n",
       "2                994.0  English       UK           PG-13  245000000.0   \n",
       "3               2701.0  English      USA           PG-13  250000000.0   \n",
       "4                  NaN      NaN      NaN             NaN          NaN   \n",
       "\n",
       "   title_year actor_2_facebook_likes imdb_score  aspect_ratio  \\\n",
       "0      2009.0                  936.0        7.9          1.78   \n",
       "1      2007.0                 5000.0        7.1          2.35   \n",
       "2      2015.0                  393.0        6.8          2.35   \n",
       "3      2012.0                23000.0        8.5          2.35   \n",
       "4         NaN                   12.0        7.1           NaN   \n",
       "\n",
       "  movie_facebook_likes  \n",
       "0                33000  \n",
       "1                    0  \n",
       "2                85000  \n",
       "3               164000  \n",
       "4                    0  \n",
       "\n",
       "[5 rows x 28 columns]"
      ]
     },
     "execution_count": 37,
     "metadata": {},
     "output_type": "execute_result"
    }
   ],
   "source": [
    "dataset = pd.read_csv('movie_metadata.csv')\n",
    "dataset.head()"
   ]
  },
  {
   "cell_type": "code",
   "execution_count": 38,
   "metadata": {},
   "outputs": [],
   "source": [
    "dataset.drop(['color','director_name','actor_2_name','genres','actor_1_name','movie_title','actor_3_name','plot_keywords','movie_imdb_link','language','country','content_rating','title_year'], axis = 1, inplace=True)"
   ]
  },
  {
   "cell_type": "code",
   "execution_count": 39,
   "metadata": {},
   "outputs": [
    {
     "data": {
      "text/html": [
       "<div>\n",
       "<style scoped>\n",
       "    .dataframe tbody tr th:only-of-type {\n",
       "        vertical-align: middle;\n",
       "    }\n",
       "\n",
       "    .dataframe tbody tr th {\n",
       "        vertical-align: top;\n",
       "    }\n",
       "\n",
       "    .dataframe thead th {\n",
       "        text-align: right;\n",
       "    }\n",
       "</style>\n",
       "<table border=\"1\" class=\"dataframe\">\n",
       "  <thead>\n",
       "    <tr style=\"text-align: right;\">\n",
       "      <th></th>\n",
       "      <th>num_critic_for_reviews</th>\n",
       "      <th>duration</th>\n",
       "      <th>director_facebook_likes</th>\n",
       "      <th>actor_3_facebook_likes</th>\n",
       "      <th>actor_1_facebook_likes</th>\n",
       "      <th>gross</th>\n",
       "      <th>num_voted_users</th>\n",
       "      <th>cast_total_facebook_likes</th>\n",
       "      <th>facenumber_in_poster</th>\n",
       "      <th>num_user_for_reviews</th>\n",
       "      <th>budget</th>\n",
       "      <th>actor_2_facebook_likes</th>\n",
       "      <th>imdb_score</th>\n",
       "      <th>aspect_ratio</th>\n",
       "      <th>movie_facebook_likes</th>\n",
       "    </tr>\n",
       "  </thead>\n",
       "  <tbody>\n",
       "    <tr>\n",
       "      <th>0</th>\n",
       "      <td>723.0</td>\n",
       "      <td>178.0</td>\n",
       "      <td>0.0</td>\n",
       "      <td>855.0</td>\n",
       "      <td>1000.0</td>\n",
       "      <td>760505847.0</td>\n",
       "      <td>886204</td>\n",
       "      <td>4834</td>\n",
       "      <td>0.0</td>\n",
       "      <td>3054.0</td>\n",
       "      <td>237000000.0</td>\n",
       "      <td>936.0</td>\n",
       "      <td>7.9</td>\n",
       "      <td>1.78</td>\n",
       "      <td>33000</td>\n",
       "    </tr>\n",
       "    <tr>\n",
       "      <th>1</th>\n",
       "      <td>302.0</td>\n",
       "      <td>169.0</td>\n",
       "      <td>563.0</td>\n",
       "      <td>1000.0</td>\n",
       "      <td>40000.0</td>\n",
       "      <td>309404152.0</td>\n",
       "      <td>471220</td>\n",
       "      <td>48350</td>\n",
       "      <td>0.0</td>\n",
       "      <td>1238.0</td>\n",
       "      <td>300000000.0</td>\n",
       "      <td>5000.0</td>\n",
       "      <td>7.1</td>\n",
       "      <td>2.35</td>\n",
       "      <td>0</td>\n",
       "    </tr>\n",
       "    <tr>\n",
       "      <th>2</th>\n",
       "      <td>602.0</td>\n",
       "      <td>148.0</td>\n",
       "      <td>0.0</td>\n",
       "      <td>161.0</td>\n",
       "      <td>11000.0</td>\n",
       "      <td>200074175.0</td>\n",
       "      <td>275868</td>\n",
       "      <td>11700</td>\n",
       "      <td>1.0</td>\n",
       "      <td>994.0</td>\n",
       "      <td>245000000.0</td>\n",
       "      <td>393.0</td>\n",
       "      <td>6.8</td>\n",
       "      <td>2.35</td>\n",
       "      <td>85000</td>\n",
       "    </tr>\n",
       "    <tr>\n",
       "      <th>3</th>\n",
       "      <td>813.0</td>\n",
       "      <td>164.0</td>\n",
       "      <td>22000.0</td>\n",
       "      <td>23000.0</td>\n",
       "      <td>27000.0</td>\n",
       "      <td>448130642.0</td>\n",
       "      <td>1144337</td>\n",
       "      <td>106759</td>\n",
       "      <td>0.0</td>\n",
       "      <td>2701.0</td>\n",
       "      <td>250000000.0</td>\n",
       "      <td>23000.0</td>\n",
       "      <td>8.5</td>\n",
       "      <td>2.35</td>\n",
       "      <td>164000</td>\n",
       "    </tr>\n",
       "    <tr>\n",
       "      <th>4</th>\n",
       "      <td>NaN</td>\n",
       "      <td>NaN</td>\n",
       "      <td>131.0</td>\n",
       "      <td>NaN</td>\n",
       "      <td>131.0</td>\n",
       "      <td>NaN</td>\n",
       "      <td>8</td>\n",
       "      <td>143</td>\n",
       "      <td>0.0</td>\n",
       "      <td>NaN</td>\n",
       "      <td>NaN</td>\n",
       "      <td>12.0</td>\n",
       "      <td>7.1</td>\n",
       "      <td>NaN</td>\n",
       "      <td>0</td>\n",
       "    </tr>\n",
       "  </tbody>\n",
       "</table>\n",
       "</div>"
      ],
      "text/plain": [
       "   num_critic_for_reviews  duration  director_facebook_likes  \\\n",
       "0                   723.0     178.0                      0.0   \n",
       "1                   302.0     169.0                    563.0   \n",
       "2                   602.0     148.0                      0.0   \n",
       "3                   813.0     164.0                  22000.0   \n",
       "4                     NaN       NaN                    131.0   \n",
       "\n",
       "   actor_3_facebook_likes  actor_1_facebook_likes        gross  \\\n",
       "0                   855.0                  1000.0  760505847.0   \n",
       "1                  1000.0                 40000.0  309404152.0   \n",
       "2                   161.0                 11000.0  200074175.0   \n",
       "3                 23000.0                 27000.0  448130642.0   \n",
       "4                     NaN                   131.0          NaN   \n",
       "\n",
       "   num_voted_users  cast_total_facebook_likes  facenumber_in_poster  \\\n",
       "0           886204                       4834                   0.0   \n",
       "1           471220                      48350                   0.0   \n",
       "2           275868                      11700                   1.0   \n",
       "3          1144337                     106759                   0.0   \n",
       "4                8                        143                   0.0   \n",
       "\n",
       "   num_user_for_reviews       budget  actor_2_facebook_likes  imdb_score  \\\n",
       "0                3054.0  237000000.0                   936.0         7.9   \n",
       "1                1238.0  300000000.0                  5000.0         7.1   \n",
       "2                 994.0  245000000.0                   393.0         6.8   \n",
       "3                2701.0  250000000.0                 23000.0         8.5   \n",
       "4                   NaN          NaN                    12.0         7.1   \n",
       "\n",
       "   aspect_ratio  movie_facebook_likes  \n",
       "0          1.78                 33000  \n",
       "1          2.35                     0  \n",
       "2          2.35                 85000  \n",
       "3          2.35                164000  \n",
       "4           NaN                     0  "
      ]
     },
     "execution_count": 39,
     "metadata": {},
     "output_type": "execute_result"
    }
   ],
   "source": [
    "dataset.head()"
   ]
  },
  {
   "cell_type": "code",
   "execution_count": 40,
   "metadata": {},
   "outputs": [
    {
     "data": {
      "text/plain": [
       "(5043, 15)"
      ]
     },
     "execution_count": 40,
     "metadata": {},
     "output_type": "execute_result"
    }
   ],
   "source": [
    "dataset.shape"
   ]
  },
  {
   "cell_type": "code",
   "execution_count": 41,
   "metadata": {},
   "outputs": [],
   "source": [
    "dataset.drop_duplicates(inplace = True)"
   ]
  },
  {
   "cell_type": "code",
   "execution_count": 42,
   "metadata": {},
   "outputs": [
    {
     "data": {
      "text/plain": [
       "(4998, 15)"
      ]
     },
     "execution_count": 42,
     "metadata": {},
     "output_type": "execute_result"
    }
   ],
   "source": [
    "dataset.shape"
   ]
  },
  {
   "cell_type": "code",
   "execution_count": 43,
   "metadata": {},
   "outputs": [
    {
     "data": {
      "text/plain": [
       "num_critic_for_reviews        49\n",
       "duration                      15\n",
       "director_facebook_likes      103\n",
       "actor_3_facebook_likes        23\n",
       "actor_1_facebook_likes         7\n",
       "gross                        874\n",
       "num_voted_users                0\n",
       "cast_total_facebook_likes      0\n",
       "facenumber_in_poster          13\n",
       "num_user_for_reviews          21\n",
       "budget                       487\n",
       "actor_2_facebook_likes        13\n",
       "imdb_score                     0\n",
       "aspect_ratio                 327\n",
       "movie_facebook_likes           0\n",
       "dtype: int64"
      ]
     },
     "execution_count": 43,
     "metadata": {},
     "output_type": "execute_result"
    }
   ],
   "source": [
    "dataset.isna().sum()"
   ]
  },
  {
   "cell_type": "code",
   "execution_count": 44,
   "metadata": {},
   "outputs": [],
   "source": [
    "dataset.dropna(inplace = True)"
   ]
  },
  {
   "cell_type": "code",
   "execution_count": 45,
   "metadata": {},
   "outputs": [
    {
     "data": {
      "text/plain": [
       "(3768, 15)"
      ]
     },
     "execution_count": 45,
     "metadata": {},
     "output_type": "execute_result"
    }
   ],
   "source": [
    "dataset.shape"
   ]
  },
  {
   "cell_type": "code",
   "execution_count": 46,
   "metadata": {
    "scrolled": true
   },
   "outputs": [
    {
     "data": {
      "text/html": [
       "<div>\n",
       "<style scoped>\n",
       "    .dataframe tbody tr th:only-of-type {\n",
       "        vertical-align: middle;\n",
       "    }\n",
       "\n",
       "    .dataframe tbody tr th {\n",
       "        vertical-align: top;\n",
       "    }\n",
       "\n",
       "    .dataframe thead th {\n",
       "        text-align: right;\n",
       "    }\n",
       "</style>\n",
       "<table border=\"1\" class=\"dataframe\">\n",
       "  <thead>\n",
       "    <tr style=\"text-align: right;\">\n",
       "      <th></th>\n",
       "      <th>num_critic_for_reviews</th>\n",
       "      <th>duration</th>\n",
       "      <th>director_facebook_likes</th>\n",
       "      <th>actor_3_facebook_likes</th>\n",
       "      <th>actor_1_facebook_likes</th>\n",
       "      <th>gross</th>\n",
       "      <th>num_voted_users</th>\n",
       "      <th>cast_total_facebook_likes</th>\n",
       "      <th>facenumber_in_poster</th>\n",
       "      <th>num_user_for_reviews</th>\n",
       "      <th>budget</th>\n",
       "      <th>actor_2_facebook_likes</th>\n",
       "      <th>imdb_score</th>\n",
       "      <th>aspect_ratio</th>\n",
       "      <th>movie_facebook_likes</th>\n",
       "    </tr>\n",
       "  </thead>\n",
       "  <tbody>\n",
       "    <tr>\n",
       "      <th>count</th>\n",
       "      <td>3768.000000</td>\n",
       "      <td>3768.000000</td>\n",
       "      <td>3768.000000</td>\n",
       "      <td>3768.000000</td>\n",
       "      <td>3768.000000</td>\n",
       "      <td>3.768000e+03</td>\n",
       "      <td>3.768000e+03</td>\n",
       "      <td>3768.000000</td>\n",
       "      <td>3768.000000</td>\n",
       "      <td>3768.000000</td>\n",
       "      <td>3.768000e+03</td>\n",
       "      <td>3768.000000</td>\n",
       "      <td>3768.000000</td>\n",
       "      <td>3768.000000</td>\n",
       "      <td>3768.000000</td>\n",
       "    </tr>\n",
       "    <tr>\n",
       "      <th>mean</th>\n",
       "      <td>165.501592</td>\n",
       "      <td>110.212845</td>\n",
       "      <td>801.020170</td>\n",
       "      <td>757.559713</td>\n",
       "      <td>7664.415074</td>\n",
       "      <td>5.186954e+07</td>\n",
       "      <td>1.043979e+05</td>\n",
       "      <td>11382.115711</td>\n",
       "      <td>1.377919</td>\n",
       "      <td>332.608811</td>\n",
       "      <td>4.584513e+07</td>\n",
       "      <td>1991.399682</td>\n",
       "      <td>6.466428</td>\n",
       "      <td>2.109827</td>\n",
       "      <td>9207.719745</td>\n",
       "    </tr>\n",
       "    <tr>\n",
       "      <th>std</th>\n",
       "      <td>123.456014</td>\n",
       "      <td>22.720245</td>\n",
       "      <td>3059.285833</td>\n",
       "      <td>1859.023336</td>\n",
       "      <td>15485.806086</td>\n",
       "      <td>6.960793e+07</td>\n",
       "      <td>1.510340e+05</td>\n",
       "      <td>19036.099715</td>\n",
       "      <td>2.056531</td>\n",
       "      <td>409.883026</td>\n",
       "      <td>2.256433e+08</td>\n",
       "      <td>4510.598255</td>\n",
       "      <td>1.055085</td>\n",
       "      <td>0.353150</td>\n",
       "      <td>21322.328408</td>\n",
       "    </tr>\n",
       "    <tr>\n",
       "      <th>min</th>\n",
       "      <td>1.000000</td>\n",
       "      <td>37.000000</td>\n",
       "      <td>0.000000</td>\n",
       "      <td>0.000000</td>\n",
       "      <td>0.000000</td>\n",
       "      <td>1.620000e+02</td>\n",
       "      <td>5.000000e+00</td>\n",
       "      <td>0.000000</td>\n",
       "      <td>0.000000</td>\n",
       "      <td>1.000000</td>\n",
       "      <td>2.180000e+02</td>\n",
       "      <td>0.000000</td>\n",
       "      <td>1.600000</td>\n",
       "      <td>1.180000</td>\n",
       "      <td>0.000000</td>\n",
       "    </tr>\n",
       "    <tr>\n",
       "      <th>25%</th>\n",
       "      <td>75.000000</td>\n",
       "      <td>96.000000</td>\n",
       "      <td>10.750000</td>\n",
       "      <td>186.000000</td>\n",
       "      <td>732.500000</td>\n",
       "      <td>7.571550e+06</td>\n",
       "      <td>1.876875e+04</td>\n",
       "      <td>1862.000000</td>\n",
       "      <td>0.000000</td>\n",
       "      <td>107.000000</td>\n",
       "      <td>1.000000e+07</td>\n",
       "      <td>372.000000</td>\n",
       "      <td>5.900000</td>\n",
       "      <td>1.850000</td>\n",
       "      <td>0.000000</td>\n",
       "    </tr>\n",
       "    <tr>\n",
       "      <th>50%</th>\n",
       "      <td>137.000000</td>\n",
       "      <td>106.000000</td>\n",
       "      <td>61.000000</td>\n",
       "      <td>433.000000</td>\n",
       "      <td>1000.000000</td>\n",
       "      <td>2.903650e+07</td>\n",
       "      <td>5.304050e+04</td>\n",
       "      <td>3965.000000</td>\n",
       "      <td>1.000000</td>\n",
       "      <td>207.000000</td>\n",
       "      <td>2.500000e+07</td>\n",
       "      <td>678.000000</td>\n",
       "      <td>6.600000</td>\n",
       "      <td>2.350000</td>\n",
       "      <td>217.000000</td>\n",
       "    </tr>\n",
       "    <tr>\n",
       "      <th>75%</th>\n",
       "      <td>223.000000</td>\n",
       "      <td>120.000000</td>\n",
       "      <td>234.000000</td>\n",
       "      <td>688.250000</td>\n",
       "      <td>12250.000000</td>\n",
       "      <td>6.646686e+07</td>\n",
       "      <td>1.269092e+05</td>\n",
       "      <td>16122.000000</td>\n",
       "      <td>2.000000</td>\n",
       "      <td>395.250000</td>\n",
       "      <td>5.000000e+07</td>\n",
       "      <td>973.500000</td>\n",
       "      <td>7.200000</td>\n",
       "      <td>2.350000</td>\n",
       "      <td>11000.000000</td>\n",
       "    </tr>\n",
       "    <tr>\n",
       "      <th>max</th>\n",
       "      <td>813.000000</td>\n",
       "      <td>330.000000</td>\n",
       "      <td>23000.000000</td>\n",
       "      <td>23000.000000</td>\n",
       "      <td>640000.000000</td>\n",
       "      <td>7.605058e+08</td>\n",
       "      <td>1.689764e+06</td>\n",
       "      <td>656730.000000</td>\n",
       "      <td>43.000000</td>\n",
       "      <td>5060.000000</td>\n",
       "      <td>1.221550e+10</td>\n",
       "      <td>137000.000000</td>\n",
       "      <td>9.300000</td>\n",
       "      <td>16.000000</td>\n",
       "      <td>349000.000000</td>\n",
       "    </tr>\n",
       "  </tbody>\n",
       "</table>\n",
       "</div>"
      ],
      "text/plain": [
       "       num_critic_for_reviews     duration  director_facebook_likes  \\\n",
       "count             3768.000000  3768.000000              3768.000000   \n",
       "mean               165.501592   110.212845               801.020170   \n",
       "std                123.456014    22.720245              3059.285833   \n",
       "min                  1.000000    37.000000                 0.000000   \n",
       "25%                 75.000000    96.000000                10.750000   \n",
       "50%                137.000000   106.000000                61.000000   \n",
       "75%                223.000000   120.000000               234.000000   \n",
       "max                813.000000   330.000000             23000.000000   \n",
       "\n",
       "       actor_3_facebook_likes  actor_1_facebook_likes         gross  \\\n",
       "count             3768.000000             3768.000000  3.768000e+03   \n",
       "mean               757.559713             7664.415074  5.186954e+07   \n",
       "std               1859.023336            15485.806086  6.960793e+07   \n",
       "min                  0.000000                0.000000  1.620000e+02   \n",
       "25%                186.000000              732.500000  7.571550e+06   \n",
       "50%                433.000000             1000.000000  2.903650e+07   \n",
       "75%                688.250000            12250.000000  6.646686e+07   \n",
       "max              23000.000000           640000.000000  7.605058e+08   \n",
       "\n",
       "       num_voted_users  cast_total_facebook_likes  facenumber_in_poster  \\\n",
       "count     3.768000e+03                3768.000000           3768.000000   \n",
       "mean      1.043979e+05               11382.115711              1.377919   \n",
       "std       1.510340e+05               19036.099715              2.056531   \n",
       "min       5.000000e+00                   0.000000              0.000000   \n",
       "25%       1.876875e+04                1862.000000              0.000000   \n",
       "50%       5.304050e+04                3965.000000              1.000000   \n",
       "75%       1.269092e+05               16122.000000              2.000000   \n",
       "max       1.689764e+06              656730.000000             43.000000   \n",
       "\n",
       "       num_user_for_reviews        budget  actor_2_facebook_likes  \\\n",
       "count           3768.000000  3.768000e+03             3768.000000   \n",
       "mean             332.608811  4.584513e+07             1991.399682   \n",
       "std              409.883026  2.256433e+08             4510.598255   \n",
       "min                1.000000  2.180000e+02                0.000000   \n",
       "25%              107.000000  1.000000e+07              372.000000   \n",
       "50%              207.000000  2.500000e+07              678.000000   \n",
       "75%              395.250000  5.000000e+07              973.500000   \n",
       "max             5060.000000  1.221550e+10           137000.000000   \n",
       "\n",
       "        imdb_score  aspect_ratio  movie_facebook_likes  \n",
       "count  3768.000000   3768.000000           3768.000000  \n",
       "mean      6.466428      2.109827           9207.719745  \n",
       "std       1.055085      0.353150          21322.328408  \n",
       "min       1.600000      1.180000              0.000000  \n",
       "25%       5.900000      1.850000              0.000000  \n",
       "50%       6.600000      2.350000            217.000000  \n",
       "75%       7.200000      2.350000          11000.000000  \n",
       "max       9.300000     16.000000         349000.000000  "
      ]
     },
     "execution_count": 46,
     "metadata": {},
     "output_type": "execute_result"
    }
   ],
   "source": [
    "dataset.describe()"
   ]
  },
  {
   "cell_type": "code",
   "execution_count": 47,
   "metadata": {},
   "outputs": [],
   "source": [
    "dataset.drop('facenumber_in_poster', axis = 1, inplace = True)"
   ]
  },
  {
   "cell_type": "code",
   "execution_count": 48,
   "metadata": {},
   "outputs": [
    {
     "data": {
      "text/plain": [
       "(3768, 14)"
      ]
     },
     "execution_count": 48,
     "metadata": {},
     "output_type": "execute_result"
    }
   ],
   "source": [
    "dataset.shape"
   ]
  },
  {
   "cell_type": "code",
   "execution_count": 49,
   "metadata": {},
   "outputs": [],
   "source": [
    "dataset = dataset.loc[(dataset!=0.0).all(axis=1)]"
   ]
  },
  {
   "cell_type": "code",
   "execution_count": 50,
   "metadata": {},
   "outputs": [
    {
     "data": {
      "text/plain": [
       "(1625, 14)"
      ]
     },
     "execution_count": 50,
     "metadata": {},
     "output_type": "execute_result"
    }
   ],
   "source": [
    "dataset.shape"
   ]
  },
  {
   "cell_type": "code",
   "execution_count": 51,
   "metadata": {},
   "outputs": [
    {
     "data": {
      "text/html": [
       "<div>\n",
       "<style scoped>\n",
       "    .dataframe tbody tr th:only-of-type {\n",
       "        vertical-align: middle;\n",
       "    }\n",
       "\n",
       "    .dataframe tbody tr th {\n",
       "        vertical-align: top;\n",
       "    }\n",
       "\n",
       "    .dataframe thead th {\n",
       "        text-align: right;\n",
       "    }\n",
       "</style>\n",
       "<table border=\"1\" class=\"dataframe\">\n",
       "  <thead>\n",
       "    <tr style=\"text-align: right;\">\n",
       "      <th></th>\n",
       "      <th>num_critic_for_reviews</th>\n",
       "      <th>duration</th>\n",
       "      <th>director_facebook_likes</th>\n",
       "      <th>actor_3_facebook_likes</th>\n",
       "      <th>actor_1_facebook_likes</th>\n",
       "      <th>gross</th>\n",
       "      <th>num_voted_users</th>\n",
       "      <th>cast_total_facebook_likes</th>\n",
       "      <th>num_user_for_reviews</th>\n",
       "      <th>budget</th>\n",
       "      <th>actor_2_facebook_likes</th>\n",
       "      <th>imdb_score</th>\n",
       "      <th>aspect_ratio</th>\n",
       "      <th>movie_facebook_likes</th>\n",
       "    </tr>\n",
       "  </thead>\n",
       "  <tbody>\n",
       "    <tr>\n",
       "      <th>count</th>\n",
       "      <td>1625.000000</td>\n",
       "      <td>1625.000000</td>\n",
       "      <td>1625.000000</td>\n",
       "      <td>1625.000000</td>\n",
       "      <td>1625.000000</td>\n",
       "      <td>1.625000e+03</td>\n",
       "      <td>1.625000e+03</td>\n",
       "      <td>1625.000000</td>\n",
       "      <td>1625.000000</td>\n",
       "      <td>1.625000e+03</td>\n",
       "      <td>1625.000000</td>\n",
       "      <td>1625.000000</td>\n",
       "      <td>1625.000000</td>\n",
       "      <td>1625.000000</td>\n",
       "    </tr>\n",
       "    <tr>\n",
       "      <th>mean</th>\n",
       "      <td>178.109538</td>\n",
       "      <td>109.054769</td>\n",
       "      <td>1104.197538</td>\n",
       "      <td>886.702154</td>\n",
       "      <td>7673.352615</td>\n",
       "      <td>5.076069e+07</td>\n",
       "      <td>1.092310e+05</td>\n",
       "      <td>11746.690462</td>\n",
       "      <td>296.949538</td>\n",
       "      <td>5.079852e+07</td>\n",
       "      <td>2177.441231</td>\n",
       "      <td>6.397846</td>\n",
       "      <td>2.112240</td>\n",
       "      <td>15820.124308</td>\n",
       "    </tr>\n",
       "    <tr>\n",
       "      <th>std</th>\n",
       "      <td>141.157322</td>\n",
       "      <td>22.132468</td>\n",
       "      <td>3630.638092</td>\n",
       "      <td>2159.985960</td>\n",
       "      <td>12045.741292</td>\n",
       "      <td>7.230585e+07</td>\n",
       "      <td>1.669336e+05</td>\n",
       "      <td>16430.262379</td>\n",
       "      <td>360.572236</td>\n",
       "      <td>3.168686e+08</td>\n",
       "      <td>4271.165384</td>\n",
       "      <td>1.114681</td>\n",
       "      <td>0.270766</td>\n",
       "      <td>25004.078110</td>\n",
       "    </tr>\n",
       "    <tr>\n",
       "      <th>min</th>\n",
       "      <td>1.000000</td>\n",
       "      <td>69.000000</td>\n",
       "      <td>2.000000</td>\n",
       "      <td>2.000000</td>\n",
       "      <td>7.000000</td>\n",
       "      <td>7.030000e+02</td>\n",
       "      <td>2.200000e+01</td>\n",
       "      <td>21.000000</td>\n",
       "      <td>1.000000</td>\n",
       "      <td>1.100000e+03</td>\n",
       "      <td>3.000000</td>\n",
       "      <td>1.600000</td>\n",
       "      <td>1.330000</td>\n",
       "      <td>12.000000</td>\n",
       "    </tr>\n",
       "    <tr>\n",
       "      <th>25%</th>\n",
       "      <td>66.000000</td>\n",
       "      <td>96.000000</td>\n",
       "      <td>31.000000</td>\n",
       "      <td>197.000000</td>\n",
       "      <td>730.000000</td>\n",
       "      <td>5.773519e+06</td>\n",
       "      <td>1.216400e+04</td>\n",
       "      <td>1953.000000</td>\n",
       "      <td>92.000000</td>\n",
       "      <td>1.000000e+07</td>\n",
       "      <td>387.000000</td>\n",
       "      <td>5.700000</td>\n",
       "      <td>1.850000</td>\n",
       "      <td>638.000000</td>\n",
       "    </tr>\n",
       "    <tr>\n",
       "      <th>50%</th>\n",
       "      <td>140.000000</td>\n",
       "      <td>105.000000</td>\n",
       "      <td>101.000000</td>\n",
       "      <td>439.000000</td>\n",
       "      <td>1000.000000</td>\n",
       "      <td>2.462992e+07</td>\n",
       "      <td>4.558000e+04</td>\n",
       "      <td>3983.000000</td>\n",
       "      <td>181.000000</td>\n",
       "      <td>2.500000e+07</td>\n",
       "      <td>691.000000</td>\n",
       "      <td>6.500000</td>\n",
       "      <td>2.350000</td>\n",
       "      <td>8000.000000</td>\n",
       "    </tr>\n",
       "    <tr>\n",
       "      <th>75%</th>\n",
       "      <td>262.000000</td>\n",
       "      <td>118.000000</td>\n",
       "      <td>338.000000</td>\n",
       "      <td>706.000000</td>\n",
       "      <td>13000.000000</td>\n",
       "      <td>6.391058e+07</td>\n",
       "      <td>1.366730e+05</td>\n",
       "      <td>16881.000000</td>\n",
       "      <td>360.000000</td>\n",
       "      <td>5.000000e+07</td>\n",
       "      <td>991.000000</td>\n",
       "      <td>7.200000</td>\n",
       "      <td>2.350000</td>\n",
       "      <td>21000.000000</td>\n",
       "    </tr>\n",
       "    <tr>\n",
       "      <th>max</th>\n",
       "      <td>813.000000</td>\n",
       "      <td>330.000000</td>\n",
       "      <td>23000.000000</td>\n",
       "      <td>23000.000000</td>\n",
       "      <td>260000.000000</td>\n",
       "      <td>6.521773e+08</td>\n",
       "      <td>1.676169e+06</td>\n",
       "      <td>263584.000000</td>\n",
       "      <td>4667.000000</td>\n",
       "      <td>1.221550e+10</td>\n",
       "      <td>29000.000000</td>\n",
       "      <td>9.000000</td>\n",
       "      <td>2.760000</td>\n",
       "      <td>349000.000000</td>\n",
       "    </tr>\n",
       "  </tbody>\n",
       "</table>\n",
       "</div>"
      ],
      "text/plain": [
       "       num_critic_for_reviews     duration  director_facebook_likes  \\\n",
       "count             1625.000000  1625.000000              1625.000000   \n",
       "mean               178.109538   109.054769              1104.197538   \n",
       "std                141.157322    22.132468              3630.638092   \n",
       "min                  1.000000    69.000000                 2.000000   \n",
       "25%                 66.000000    96.000000                31.000000   \n",
       "50%                140.000000   105.000000               101.000000   \n",
       "75%                262.000000   118.000000               338.000000   \n",
       "max                813.000000   330.000000             23000.000000   \n",
       "\n",
       "       actor_3_facebook_likes  actor_1_facebook_likes         gross  \\\n",
       "count             1625.000000             1625.000000  1.625000e+03   \n",
       "mean               886.702154             7673.352615  5.076069e+07   \n",
       "std               2159.985960            12045.741292  7.230585e+07   \n",
       "min                  2.000000                7.000000  7.030000e+02   \n",
       "25%                197.000000              730.000000  5.773519e+06   \n",
       "50%                439.000000             1000.000000  2.462992e+07   \n",
       "75%                706.000000            13000.000000  6.391058e+07   \n",
       "max              23000.000000           260000.000000  6.521773e+08   \n",
       "\n",
       "       num_voted_users  cast_total_facebook_likes  num_user_for_reviews  \\\n",
       "count     1.625000e+03                1625.000000           1625.000000   \n",
       "mean      1.092310e+05               11746.690462            296.949538   \n",
       "std       1.669336e+05               16430.262379            360.572236   \n",
       "min       2.200000e+01                  21.000000              1.000000   \n",
       "25%       1.216400e+04                1953.000000             92.000000   \n",
       "50%       4.558000e+04                3983.000000            181.000000   \n",
       "75%       1.366730e+05               16881.000000            360.000000   \n",
       "max       1.676169e+06              263584.000000           4667.000000   \n",
       "\n",
       "             budget  actor_2_facebook_likes   imdb_score  aspect_ratio  \\\n",
       "count  1.625000e+03             1625.000000  1625.000000   1625.000000   \n",
       "mean   5.079852e+07             2177.441231     6.397846      2.112240   \n",
       "std    3.168686e+08             4271.165384     1.114681      0.270766   \n",
       "min    1.100000e+03                3.000000     1.600000      1.330000   \n",
       "25%    1.000000e+07              387.000000     5.700000      1.850000   \n",
       "50%    2.500000e+07              691.000000     6.500000      2.350000   \n",
       "75%    5.000000e+07              991.000000     7.200000      2.350000   \n",
       "max    1.221550e+10            29000.000000     9.000000      2.760000   \n",
       "\n",
       "       movie_facebook_likes  \n",
       "count           1625.000000  \n",
       "mean           15820.124308  \n",
       "std            25004.078110  \n",
       "min               12.000000  \n",
       "25%              638.000000  \n",
       "50%             8000.000000  \n",
       "75%            21000.000000  \n",
       "max           349000.000000  "
      ]
     },
     "execution_count": 51,
     "metadata": {},
     "output_type": "execute_result"
    }
   ],
   "source": [
    "dataset.describe()"
   ]
  },
  {
   "cell_type": "code",
   "execution_count": 70,
   "metadata": {},
   "outputs": [
    {
     "data": {
      "image/png": "[encoded data removed]",
      "text/plain": [
       "<Figure size 864x864 with 2 Axes>"
      ]
     },
     "metadata": {
      "needs_background": "light"
     },
     "output_type": "display_data"
    }
   ],
   "source": [
    "corr_matrix = dataset.corr()\n",
    "plt.figure(figsize = (12,12))\n",
    "sns.heatmap(corr_matrix, annot = True)\n",
    "plt.show()"
   ]
  },
  {
   "cell_type": "code",
   "execution_count": 53,
   "metadata": {},
   "outputs": [],
   "source": [
    "X = dataset.drop(columns=['imdb_score'])"
   ]
  },
  {
   "cell_type": "code",
   "execution_count": 54,
   "metadata": {},
   "outputs": [
    {
     "data": {
      "text/html": [
       "<div>\n",
       "<style scoped>\n",
       "    .dataframe tbody tr th:only-of-type {\n",
       "        vertical-align: middle;\n",
       "    }\n",
       "\n",
       "    .dataframe tbody tr th {\n",
       "        vertical-align: top;\n",
       "    }\n",
       "\n",
       "    .dataframe thead th {\n",
       "        text-align: right;\n",
       "    }\n",
       "</style>\n",
       "<table border=\"1\" class=\"dataframe\">\n",
       "  <thead>\n",
       "    <tr style=\"text-align: right;\">\n",
       "      <th></th>\n",
       "      <th>num_critic_for_reviews</th>\n",
       "      <th>duration</th>\n",
       "      <th>director_facebook_likes</th>\n",
       "      <th>actor_3_facebook_likes</th>\n",
       "      <th>actor_1_facebook_likes</th>\n",
       "      <th>gross</th>\n",
       "      <th>num_voted_users</th>\n",
       "      <th>cast_total_facebook_likes</th>\n",
       "      <th>num_user_for_reviews</th>\n",
       "      <th>budget</th>\n",
       "      <th>actor_2_facebook_likes</th>\n",
       "      <th>aspect_ratio</th>\n",
       "      <th>movie_facebook_likes</th>\n",
       "    </tr>\n",
       "  </thead>\n",
       "  <tbody>\n",
       "    <tr>\n",
       "      <th>3</th>\n",
       "      <td>813.0</td>\n",
       "      <td>164.0</td>\n",
       "      <td>22000.0</td>\n",
       "      <td>23000.0</td>\n",
       "      <td>27000.0</td>\n",
       "      <td>448130642.0</td>\n",
       "      <td>1144337</td>\n",
       "      <td>106759</td>\n",
       "      <td>2701.0</td>\n",
       "      <td>250000000.0</td>\n",
       "      <td>23000.0</td>\n",
       "      <td>2.35</td>\n",
       "      <td>164000</td>\n",
       "    </tr>\n",
       "    <tr>\n",
       "      <th>5</th>\n",
       "      <td>462.0</td>\n",
       "      <td>132.0</td>\n",
       "      <td>475.0</td>\n",
       "      <td>530.0</td>\n",
       "      <td>640.0</td>\n",
       "      <td>73058679.0</td>\n",
       "      <td>212204</td>\n",
       "      <td>1873</td>\n",
       "      <td>738.0</td>\n",
       "      <td>263700000.0</td>\n",
       "      <td>632.0</td>\n",
       "      <td>2.35</td>\n",
       "      <td>24000</td>\n",
       "    </tr>\n",
       "    <tr>\n",
       "      <th>7</th>\n",
       "      <td>324.0</td>\n",
       "      <td>100.0</td>\n",
       "      <td>15.0</td>\n",
       "      <td>284.0</td>\n",
       "      <td>799.0</td>\n",
       "      <td>200807262.0</td>\n",
       "      <td>294810</td>\n",
       "      <td>2036</td>\n",
       "      <td>387.0</td>\n",
       "      <td>260000000.0</td>\n",
       "      <td>553.0</td>\n",
       "      <td>1.85</td>\n",
       "      <td>29000</td>\n",
       "    </tr>\n",
       "    <tr>\n",
       "      <th>9</th>\n",
       "      <td>375.0</td>\n",
       "      <td>153.0</td>\n",
       "      <td>282.0</td>\n",
       "      <td>10000.0</td>\n",
       "      <td>25000.0</td>\n",
       "      <td>301956980.0</td>\n",
       "      <td>321795</td>\n",
       "      <td>58753</td>\n",
       "      <td>973.0</td>\n",
       "      <td>250000000.0</td>\n",
       "      <td>11000.0</td>\n",
       "      <td>2.35</td>\n",
       "      <td>10000</td>\n",
       "    </tr>\n",
       "    <tr>\n",
       "      <th>13</th>\n",
       "      <td>313.0</td>\n",
       "      <td>151.0</td>\n",
       "      <td>563.0</td>\n",
       "      <td>1000.0</td>\n",
       "      <td>40000.0</td>\n",
       "      <td>423032628.0</td>\n",
       "      <td>522040</td>\n",
       "      <td>48486</td>\n",
       "      <td>1832.0</td>\n",
       "      <td>225000000.0</td>\n",
       "      <td>5000.0</td>\n",
       "      <td>2.35</td>\n",
       "      <td>5000</td>\n",
       "    </tr>\n",
       "    <tr>\n",
       "      <th>...</th>\n",
       "      <td>...</td>\n",
       "      <td>...</td>\n",
       "      <td>...</td>\n",
       "      <td>...</td>\n",
       "      <td>...</td>\n",
       "      <td>...</td>\n",
       "      <td>...</td>\n",
       "      <td>...</td>\n",
       "      <td>...</td>\n",
       "      <td>...</td>\n",
       "      <td>...</td>\n",
       "      <td>...</td>\n",
       "      <td>...</td>\n",
       "    </tr>\n",
       "    <tr>\n",
       "      <th>5023</th>\n",
       "      <td>22.0</td>\n",
       "      <td>88.0</td>\n",
       "      <td>38.0</td>\n",
       "      <td>211.0</td>\n",
       "      <td>331.0</td>\n",
       "      <td>76382.0</td>\n",
       "      <td>1194</td>\n",
       "      <td>1546</td>\n",
       "      <td>8.0</td>\n",
       "      <td>15000.0</td>\n",
       "      <td>212.0</td>\n",
       "      <td>2.35</td>\n",
       "      <td>324</td>\n",
       "    </tr>\n",
       "    <tr>\n",
       "      <th>5026</th>\n",
       "      <td>81.0</td>\n",
       "      <td>110.0</td>\n",
       "      <td>107.0</td>\n",
       "      <td>45.0</td>\n",
       "      <td>576.0</td>\n",
       "      <td>136007.0</td>\n",
       "      <td>3924</td>\n",
       "      <td>776</td>\n",
       "      <td>39.0</td>\n",
       "      <td>4500.0</td>\n",
       "      <td>133.0</td>\n",
       "      <td>2.35</td>\n",
       "      <td>171</td>\n",
       "    </tr>\n",
       "    <tr>\n",
       "      <th>5029</th>\n",
       "      <td>78.0</td>\n",
       "      <td>111.0</td>\n",
       "      <td>62.0</td>\n",
       "      <td>6.0</td>\n",
       "      <td>89.0</td>\n",
       "      <td>94596.0</td>\n",
       "      <td>6318</td>\n",
       "      <td>115</td>\n",
       "      <td>50.0</td>\n",
       "      <td>1000000.0</td>\n",
       "      <td>13.0</td>\n",
       "      <td>1.85</td>\n",
       "      <td>817</td>\n",
       "    </tr>\n",
       "    <tr>\n",
       "      <th>5033</th>\n",
       "      <td>143.0</td>\n",
       "      <td>77.0</td>\n",
       "      <td>291.0</td>\n",
       "      <td>8.0</td>\n",
       "      <td>291.0</td>\n",
       "      <td>424760.0</td>\n",
       "      <td>72639</td>\n",
       "      <td>368</td>\n",
       "      <td>371.0</td>\n",
       "      <td>7000.0</td>\n",
       "      <td>45.0</td>\n",
       "      <td>1.85</td>\n",
       "      <td>19000</td>\n",
       "    </tr>\n",
       "    <tr>\n",
       "      <th>5042</th>\n",
       "      <td>43.0</td>\n",
       "      <td>90.0</td>\n",
       "      <td>16.0</td>\n",
       "      <td>16.0</td>\n",
       "      <td>86.0</td>\n",
       "      <td>85222.0</td>\n",
       "      <td>4285</td>\n",
       "      <td>163</td>\n",
       "      <td>84.0</td>\n",
       "      <td>1100.0</td>\n",
       "      <td>23.0</td>\n",
       "      <td>1.85</td>\n",
       "      <td>456</td>\n",
       "    </tr>\n",
       "  </tbody>\n",
       "</table>\n",
       "<p>1625 rows × 13 columns</p>\n",
       "</div>"
      ],
      "text/plain": [
       "      num_critic_for_reviews  duration  director_facebook_likes  \\\n",
       "3                      813.0     164.0                  22000.0   \n",
       "5                      462.0     132.0                    475.0   \n",
       "7                      324.0     100.0                     15.0   \n",
       "9                      375.0     153.0                    282.0   \n",
       "13                     313.0     151.0                    563.0   \n",
       "...                      ...       ...                      ...   \n",
       "5023                    22.0      88.0                     38.0   \n",
       "5026                    81.0     110.0                    107.0   \n",
       "5029                    78.0     111.0                     62.0   \n",
       "5033                   143.0      77.0                    291.0   \n",
       "5042                    43.0      90.0                     16.0   \n",
       "\n",
       "      actor_3_facebook_likes  actor_1_facebook_likes        gross  \\\n",
       "3                    23000.0                 27000.0  448130642.0   \n",
       "5                      530.0                   640.0   73058679.0   \n",
       "7                      284.0                   799.0  200807262.0   \n",
       "9                    10000.0                 25000.0  301956980.0   \n",
       "13                    1000.0                 40000.0  423032628.0   \n",
       "...                      ...                     ...          ...   \n",
       "5023                   211.0                   331.0      76382.0   \n",
       "5026                    45.0                   576.0     136007.0   \n",
       "5029                     6.0                    89.0      94596.0   \n",
       "5033                     8.0                   291.0     424760.0   \n",
       "5042                    16.0                    86.0      85222.0   \n",
       "\n",
       "      num_voted_users  cast_total_facebook_likes  num_user_for_reviews  \\\n",
       "3             1144337                     106759                2701.0   \n",
       "5              212204                       1873                 738.0   \n",
       "7              294810                       2036                 387.0   \n",
       "9              321795                      58753                 973.0   \n",
       "13             522040                      48486                1832.0   \n",
       "...               ...                        ...                   ...   \n",
       "5023             1194                       1546                   8.0   \n",
       "5026             3924                        776                  39.0   \n",
       "5029             6318                        115                  50.0   \n",
       "5033            72639                        368                 371.0   \n",
       "5042             4285                        163                  84.0   \n",
       "\n",
       "           budget  actor_2_facebook_likes  aspect_ratio  movie_facebook_likes  \n",
       "3     250000000.0                 23000.0          2.35                164000  \n",
       "5     263700000.0                   632.0          2.35                 24000  \n",
       "7     260000000.0                   553.0          1.85                 29000  \n",
       "9     250000000.0                 11000.0          2.35                 10000  \n",
       "13    225000000.0                  5000.0          2.35                  5000  \n",
       "...           ...                     ...           ...                   ...  \n",
       "5023      15000.0                   212.0          2.35                   324  \n",
       "5026       4500.0                   133.0          2.35                   171  \n",
       "5029    1000000.0                    13.0          1.85                   817  \n",
       "5033       7000.0                    45.0          1.85                 19000  \n",
       "5042       1100.0                    23.0          1.85                   456  \n",
       "\n",
       "[1625 rows x 13 columns]"
      ]
     },
     "execution_count": 54,
     "metadata": {},
     "output_type": "execute_result"
    }
   ],
   "source": [
    "X"
   ]
  },
  {
   "cell_type": "code",
   "execution_count": 55,
   "metadata": {},
   "outputs": [],
   "source": [
    "y = dataset['imdb_score']"
   ]
  },
  {
   "cell_type": "code",
   "execution_count": 56,
   "metadata": {},
   "outputs": [
    {
     "data": {
      "text/plain": [
       "3       8.5\n",
       "5       6.6\n",
       "7       7.8\n",
       "9       7.5\n",
       "13      7.3\n",
       "       ... \n",
       "5023    6.2\n",
       "5026    6.9\n",
       "5029    7.4\n",
       "5033    7.0\n",
       "5042    6.6\n",
       "Name: imdb_score, Length: 1625, dtype: float64"
      ]
     },
     "execution_count": 56,
     "metadata": {},
     "output_type": "execute_result"
    }
   ],
   "source": [
    "y"
   ]
  },
  {
   "cell_type": "code",
   "execution_count": 57,
   "metadata": {},
   "outputs": [],
   "source": [
    "X = np.array(X)\n",
    "y = np.array(y)"
   ]
  },
  {
   "cell_type": "code",
   "execution_count": 58,
   "metadata": {},
   "outputs": [
    {
     "data": {
      "text/plain": [
       "(1625, 1)"
      ]
     },
     "execution_count": 58,
     "metadata": {},
     "output_type": "execute_result"
    }
   ],
   "source": [
    "y = y.reshape(-1,1)\n",
    "y.shape"
   ]
  },
  {
   "cell_type": "code",
   "execution_count": 59,
   "metadata": {},
   "outputs": [
    {
     "data": {
      "text/plain": [
       "(1625, 13)"
      ]
     },
     "execution_count": 59,
     "metadata": {},
     "output_type": "execute_result"
    }
   ],
   "source": [
    "X.shape"
   ]
  },
  {
   "cell_type": "code",
   "execution_count": 60,
   "metadata": {},
   "outputs": [],
   "source": [
    "from sklearn.preprocessing import StandardScaler, MinMaxScaler\n",
    "scaler_x = StandardScaler()\n",
    "X = scaler_x.fit_transform(X)"
   ]
  },
  {
   "cell_type": "code",
   "execution_count": 61,
   "metadata": {},
   "outputs": [],
   "source": [
    "scaler_y = StandardScaler()\n",
    "y = scaler_x.fit_transform(y)"
   ]
  },
  {
   "cell_type": "code",
   "execution_count": 62,
   "metadata": {},
   "outputs": [],
   "source": [
    "from sklearn.model_selection import train_test_split\n",
    "X_train, X_test, y_train, y_test = train_test_split(X, y, test_size = 0.2)"
   ]
  },
  {
   "cell_type": "code",
   "execution_count": 63,
   "metadata": {},
   "outputs": [
    {
     "name": "stderr",
     "output_type": "stream",
     "text": [
      "/Users/n_rishabh/opt/anaconda3/lib/python3.7/site-packages/ipykernel_launcher.py:3: DataConversionWarning: A column-vector y was passed when a 1d array was expected. Please change the shape of y to (n_samples,), for example using ravel().\n",
      "  This is separate from the ipykernel package so we can avoid doing imports until\n"
     ]
    },
    {
     "data": {
      "text/plain": [
       "RandomForestRegressor(max_depth=10)"
      ]
     },
     "execution_count": 63,
     "metadata": {},
     "output_type": "execute_result"
    }
   ],
   "source": [
    "from sklearn.ensemble import RandomForestRegressor\n",
    "RandomForest_model = RandomForestRegressor(n_estimators = 100, max_depth = 10)\n",
    "RandomForest_model.fit(X_train, y_train)"
   ]
  },
  {
   "cell_type": "code",
   "execution_count": 64,
   "metadata": {},
   "outputs": [
    {
     "data": {
      "text/plain": [
       "0.6188362683686428"
      ]
     },
     "execution_count": 64,
     "metadata": {},
     "output_type": "execute_result"
    }
   ],
   "source": [
    "accuracy_RandomForest = RandomForest_model.score(X_test, y_test)\n",
    "accuracy_RandomForest"
   ]
  },
  {
   "cell_type": "code",
   "execution_count": 65,
   "metadata": {},
   "outputs": [],
   "source": [
    "from sklearn.linear_model import LinearRegression\n",
    "from sklearn.metrics import mean_squared_error, accuracy_score"
   ]
  },
  {
   "cell_type": "code",
   "execution_count": 66,
   "metadata": {},
   "outputs": [
    {
     "data": {
      "text/plain": [
       "LinearRegression()"
      ]
     },
     "execution_count": 66,
     "metadata": {},
     "output_type": "execute_result"
    }
   ],
   "source": [
    "LinearRegression_model = LinearRegression()\n",
    "LinearRegression_model.fit(X_train, y_train)"
   ]
  },
  {
   "cell_type": "code",
   "execution_count": 67,
   "metadata": {},
   "outputs": [
    {
     "data": {
      "text/plain": [
       "0.3739589960951544"
      ]
     },
     "execution_count": 67,
     "metadata": {},
     "output_type": "execute_result"
    }
   ],
   "source": [
    "accuracy_LinearRegression = LinearRegression_model.score(X_test, y_test)\n",
    "accuracy_LinearRegression"
   ]
  },
  {
   "cell_type": "code",
   "execution_count": 71,
   "metadata": {},
   "outputs": [
    {
     "data": {
      "text/plain": [
       "0.6188362683686428"
      ]
     },
     "execution_count": 71,
     "metadata": {},
     "output_type": "execute_result"
    }
   ],
   "source": [
    "accuracy_RandomForest"
   ]
  },
  {
   "cell_type": "code",
   "execution_count": 72,
   "metadata": {},
   "outputs": [
    {
     "data": {
      "text/plain": [
       "array([-1.07033672, -0.44374124, -0.65370575,  0.11074173,  0.05142779,\n",
       "        0.75269659, -0.08902651, -0.32371017,  0.40267616,  0.22621888,\n",
       "        0.1527362 , -0.15346836, -0.96133192, -0.41097035, -0.63640959,\n",
       "        0.98528564, -0.50431964, -0.51937189,  0.42963521,  0.18546435,\n",
       "        1.14421978,  0.16739667,  0.04263452, -0.30138477,  0.81709937,\n",
       "        0.30272786,  0.03519982,  0.19816585,  0.22613987,  0.47742691,\n",
       "       -1.18014788,  1.75445266,  0.96938685, -0.4943328 , -0.30538257,\n",
       "       -0.01081647, -0.20619578, -0.49678904,  0.00666572,  1.71537093,\n",
       "       -0.97960622,  1.45301894, -0.4165933 , -0.21718792,  0.77298601,\n",
       "        0.49176088, -0.09635309, -0.31769751,  0.42273013,  0.14320253,\n",
       "        0.65052269,  1.0172621 ,  0.6180631 , -1.13065465,  0.566575  ,\n",
       "       -1.22248526, -0.0301081 ,  1.03890251, -0.44125889, -0.260182  ,\n",
       "        0.09811521, -0.10339102, -2.30806235, -0.91169452,  1.36175265,\n",
       "       -0.66927415,  1.55842995, -1.66153937, -0.20262584, -0.49365001,\n",
       "        1.00647538, -0.67863861,  1.2711651 ,  0.73416064,  0.28921817,\n",
       "       -0.79834464, -1.44863013,  0.27207272,  1.9990827 , -0.36743447,\n",
       "       -0.86098877, -0.37148383, -0.68618816,  0.18477668,  1.82838559,\n",
       "       -0.93060899, -0.53835429, -0.1400484 ,  0.08431459,  0.47362544,\n",
       "        0.01423449,  1.72497517,  0.363572  , -0.7983928 , -0.21654774,\n",
       "        0.21549811,  0.00907522,  1.02169358, -0.30342006,  0.17889785,\n",
       "        0.34674733,  2.05561851,  0.03519982,  1.24228605, -0.39859819,\n",
       "        1.85446556, -0.24366931, -0.13016851, -0.85891446,  1.19710681,\n",
       "        0.04748629, -0.04643326,  0.17286206, -0.78085724,  0.37621056,\n",
       "        0.2414422 ,  0.73931269, -0.89996589,  1.46971479, -0.66719986,\n",
       "        0.05019924, -0.17664319, -0.71650967,  0.88610146,  0.21509157,\n",
       "       -0.07734764, -0.49432144,  0.04263452, -0.48163859,  0.09934171,\n",
       "       -0.94287181, -0.04939357, -0.38775349, -0.61367532, -1.08458372,\n",
       "       -0.51910298, -0.79352395,  0.10128738,  0.67748872, -0.27111805,\n",
       "       -0.57269581, -0.89859055,  0.3896955 , -0.02032569, -0.06885249,\n",
       "       -0.47684731, -0.37479681,  0.01412543,  0.80519136,  1.34121165,\n",
       "       -0.79273367,  0.04815749, -0.16369192,  0.0029826 ,  0.78528707,\n",
       "       -0.98412199, -0.82453862, -0.3118168 ,  0.19761407,  0.85176987,\n",
       "        0.06158294, -2.16383174, -0.02465689, -0.11288406,  0.42963521,\n",
       "       -0.50066853,  0.11492889, -0.06789213, -1.08771957, -0.70024333,\n",
       "        0.22833408, -0.32852543, -0.0565062 , -0.15923971, -1.35057788,\n",
       "       -0.43203084, -0.71887778,  1.09256302, -0.35904772, -0.23893664,\n",
       "        0.23297178, -0.4179308 ,  0.90275517,  0.1596548 ,  1.13805936,\n",
       "       -0.0881928 ,  0.59020705, -0.1375588 , -0.82399026, -0.33477456,\n",
       "        0.23124123, -0.75813521, -0.2297242 ,  1.28617832,  0.03955536,\n",
       "       -1.07377155,  0.41522803, -0.73400849,  1.07969281, -1.39283796,\n",
       "        0.06588812, -0.28795269, -1.9026804 , -0.16078579, -0.26881724,\n",
       "       -0.15104751, -1.03597817,  0.17049989,  0.26286411,  1.65482563,\n",
       "       -0.77321732,  0.58608456,  0.50300415, -0.64011624, -0.06118135,\n",
       "       -0.30433234, -0.27833118, -0.06652182,  0.24245606,  0.01151606,\n",
       "        0.45501881, -1.0096107 ,  1.05279044,  0.14630398, -0.22661303,\n",
       "        0.46892907,  0.00827707, -0.07376739,  0.13119656, -0.91025312,\n",
       "       -0.78011041,  0.2225107 , -0.73630065, -0.1886896 , -1.04789842,\n",
       "       -0.41017361,  0.50963953, -0.09920088,  0.77548897,  0.11661849,\n",
       "       -0.09760501,  0.0374368 ,  1.03268693, -0.45543415, -0.85084826,\n",
       "       -0.09736916,  1.06301815, -1.0176612 ,  0.72820677,  1.8694734 ,\n",
       "        0.38652578, -0.45052051,  0.65000511,  0.10674732, -0.08646829,\n",
       "        0.55909437, -0.3114236 ,  0.6122923 , -0.19952167, -0.4656922 ,\n",
       "       -0.17582072,  0.16494662, -0.52466517,  1.06855143,  0.56790027,\n",
       "        0.18317394,  0.05146992, -0.40539223, -0.86874105, -1.00788238,\n",
       "       -1.01938793, -0.88744163,  0.02020359,  0.10000636, -0.24619623,\n",
       "       -0.03198665,  0.62795624,  0.13659319,  0.26975566,  0.03265239,\n",
       "        0.92564313, -0.34725728,  1.09552867,  0.0436732 , -1.1126065 ,\n",
       "       -1.24404575, -0.4718286 , -0.44538105, -0.35413867, -0.77891673,\n",
       "        0.08511535,  0.95080025, -1.44946048,  0.92460959,  0.97643074,\n",
       "       -0.14372254, -0.1584562 ,  0.14507923, -0.23653423, -0.73606376,\n",
       "        1.00647538,  0.59201107,  0.15165307, -0.78364298, -0.05284404,\n",
       "        0.56690255,  0.0241758 , -0.61814468, -0.76055331, -0.79010378,\n",
       "       -0.58278528,  0.09093091,  0.45794002,  0.13769598,  1.34284082,\n",
       "        0.92714639,  0.04426489,  0.0884253 , -0.99045211,  1.09256754,\n",
       "        0.21006685, -0.94578049, -0.81118797,  1.44755535,  0.50886112])"
      ]
     },
     "execution_count": 72,
     "metadata": {},
     "output_type": "execute_result"
    }
   ],
   "source": [
    "y_pred=RandomForest_model.predict(X_test)\n",
    "y_pred"
   ]
  },
  {
   "cell_type": "code",
   "execution_count": 73,
   "metadata": {},
   "outputs": [
    {
     "name": "stdout",
     "output_type": "stream",
     "text": [
      "Final rmse value is = 1.212692449234023\n"
     ]
    }
   ],
   "source": [
    "rss=((y_test-y_pred)**2).sum()\n",
    "mse=np.mean((y_test-y_pred)**2)\n",
    "print(\"Final rmse value is =\",np.sqrt(np.mean((y_test-y_pred)**2)))"
   ]
  },
  {
   "cell_type": "code",
   "execution_count": 74,
   "metadata": {},
   "outputs": [
    {
     "data": {
      "text/plain": [
       "1.4706229764292131"
      ]
     },
     "execution_count": 74,
     "metadata": {},
     "output_type": "execute_result"
    }
   ],
   "source": [
    "mse"
   ]
  },
  {
   "cell_type": "code",
   "execution_count": 75,
   "metadata": {},
   "outputs": [
    {
     "data": {
      "text/plain": [
       "155334.55188533565"
      ]
     },
     "execution_count": 75,
     "metadata": {},
     "output_type": "execute_result"
    }
   ],
   "source": [
    "rss"
   ]
  }
 ],
 "metadata": {
  "kernelspec": {
   "display_name": "Python 3",
   "language": "python",
   "name": "python3"
  },
  "language_info": {
   "codemirror_mode": {
    "name": "ipython",
    "version": 3
   },
   "file_extension": ".py",
   "mimetype": "text/x-python",
   "name": "python",
   "nbconvert_exporter": "python",
   "pygments_lexer": "ipython3",
   "version": "3.7.4"
  }
 },
 "nbformat": 4,
 "nbformat_minor": 4
}
